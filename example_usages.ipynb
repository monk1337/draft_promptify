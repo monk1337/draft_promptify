{
 "cells": [
  {
   "cell_type": "code",
   "execution_count": 1,
   "metadata": {},
   "outputs": [],
   "source": [
    "from openai_model import OpenAI_Complete"
   ]
  },
  {
   "cell_type": "code",
   "execution_count": 1,
   "metadata": {},
   "outputs": [],
   "source": [
    "from local_example_config import SECRET_KEY"
   ]
  },
  {
   "cell_type": "code",
   "execution_count": 5,
   "metadata": {},
   "outputs": [],
   "source": [
    "ai_complete = OpenAI_Complete(model=\"text-davinci-003\", api_key=SECRET_KEY)"
   ]
  },
  {
   "cell_type": "code",
   "execution_count": 6,
   "metadata": {},
   "outputs": [
    {
     "data": {
      "text/plain": [
       "[<OpenAIObject text_completion id=cmpl-70SI76WGnoERubRwFrrK5nHv8qjPi at 0x7fc5b1ed2180> JSON: {\n",
       "   \"choices\": [\n",
       "     {\n",
       "       \"finish_reason\": \"stop\",\n",
       "       \"index\": 0,\n",
       "       \"logprobs\": null,\n",
       "       \"text\": \"\\n\\nWhat would you like to do?\"\n",
       "     }\n",
       "   ],\n",
       "   \"created\": 1680343107,\n",
       "   \"id\": \"cmpl-70SI76WGnoERubRwFrrK5nHv8qjPi\",\n",
       "   \"model\": \"text-davinci-003\",\n",
       "   \"object\": \"text_completion\",\n",
       "   \"usage\": {\n",
       "     \"completion_tokens\": 9,\n",
       "     \"prompt_tokens\": 5,\n",
       "     \"total_tokens\": 14\n",
       "   }\n",
       " }]"
      ]
     },
     "execution_count": 6,
     "metadata": {},
     "output_type": "execute_result"
    }
   ],
   "source": [
    "ai_complete.run([\"This is a test prompt\"])"
   ]
  },
  {
   "cell_type": "code",
   "execution_count": 2,
   "metadata": {},
   "outputs": [],
   "source": [
    "from openai_chatgpt_model import OpenAI_ChatComplete"
   ]
  },
  {
   "cell_type": "code",
   "execution_count": 3,
   "metadata": {},
   "outputs": [],
   "source": [
    "ai_complete = OpenAI_ChatComplete(model=\"gpt-3.5-turbo\", api_key=SECRET_KEY)"
   ]
  },
  {
   "cell_type": "code",
   "execution_count": 4,
   "metadata": {},
   "outputs": [],
   "source": [
    "answer, messages = ai_complete.run(\"what is the purpose of life?\")"
   ]
  },
  {
   "cell_type": "code",
   "execution_count": 5,
   "metadata": {},
   "outputs": [
    {
     "data": {
      "text/plain": [
       "'As an AI language model, I do not have a personal opinion or belief system, but the purpose of life is a philosophical question that has been debated by many thinkers throughout history. Some believe that the purpose of life is to seek happiness, others believe it is to fulfill a specific religious or spiritual destiny, while others believe it is to make a positive impact on the world. Ultimately, the purpose of life is a deeply personal question that each individual must answer for themselves.'"
      ]
     },
     "execution_count": 5,
     "metadata": {},
     "output_type": "execute_result"
    }
   ],
   "source": [
    "answer"
   ]
  },
  {
   "cell_type": "code",
   "execution_count": 6,
   "metadata": {},
   "outputs": [
    {
     "data": {
      "text/plain": [
       "[{'role': 'system', 'content': 'you are a helpful assistant'},\n",
       " {'role': 'user', 'content': 'what is the purpose of life?'},\n",
       " {'role': 'assistant',\n",
       "  'content': 'As an AI language model, I do not have a personal opinion or belief system, but the purpose of life is a philosophical question that has been debated by many thinkers throughout history. Some believe that the purpose of life is to seek happiness, others believe it is to fulfill a specific religious or spiritual destiny, while others believe it is to make a positive impact on the world. Ultimately, the purpose of life is a deeply personal question that each individual must answer for themselves.'}]"
      ]
     },
     "execution_count": 6,
     "metadata": {},
     "output_type": "execute_result"
    }
   ],
   "source": [
    "messages"
   ]
  },
  {
   "cell_type": "code",
   "execution_count": 7,
   "metadata": {},
   "outputs": [],
   "source": [
    "answer, messages = ai_complete.run(\"how to cook a tomato soup?\")"
   ]
  },
  {
   "cell_type": "code",
   "execution_count": 8,
   "metadata": {},
   "outputs": [
    {
     "data": {
      "text/plain": [
       "'Here is a simple recipe for tomato soup:\\n\\nIngredients:\\n- 1 tablespoon olive oil\\n- 1 onion, chopped\\n- 2 garlic cloves, minced\\n- 2 cans (28 oz each) of whole peeled tomatoes\\n- 2 cups vegetable or chicken broth\\n- 1 teaspoon sugar\\n- 1 teaspoon salt\\n- 1/4 teaspoon black pepper\\n- 1/4 cup chopped fresh basil (optional)\\n- 1/2 cup heavy cream (optional)\\n\\nInstructions:\\n1. Heat the olive oil in a large pot over medium heat.\\n2. Add the chopped onion and minced garlic and cook until the onions are translucent, about 5 minutes.\\n3. Add the canned tomatoes (with their juice), chicken or vegetable broth, sugar, salt and black pepper. \\n4. Bring the mixture to a boil, then reduce the heat to low and let it simmer for about 15 minutes.\\n5. Remove the pot from heat and let it cool for a few minutes.\\n6. Using an immersion blender, blend the soup until it is smooth.\\n7. If using, stir in the chopped fresh basil and heavy cream.\\n8. Serve hot with crusty bread or crackers.\\n\\nEnjoy your homemade tomato soup!'"
      ]
     },
     "execution_count": 8,
     "metadata": {},
     "output_type": "execute_result"
    }
   ],
   "source": [
    "answer"
   ]
  },
  {
   "cell_type": "code",
   "execution_count": 9,
   "metadata": {},
   "outputs": [
    {
     "data": {
      "text/plain": [
       "[{'role': 'system', 'content': 'you are a helpful assistant'},\n",
       " {'role': 'user', 'content': 'what is the purpose of life?'},\n",
       " {'role': 'assistant',\n",
       "  'content': 'As an AI language model, I do not have a personal opinion or belief system, but the purpose of life is a philosophical question that has been debated by many thinkers throughout history. Some believe that the purpose of life is to seek happiness, others believe it is to fulfill a specific religious or spiritual destiny, while others believe it is to make a positive impact on the world. Ultimately, the purpose of life is a deeply personal question that each individual must answer for themselves.'},\n",
       " {'role': 'user', 'content': 'how to cook a tomato soup?'},\n",
       " {'role': 'assistant',\n",
       "  'content': 'Here is a simple recipe for tomato soup:\\n\\nIngredients:\\n- 1 tablespoon olive oil\\n- 1 onion, chopped\\n- 2 garlic cloves, minced\\n- 2 cans (28 oz each) of whole peeled tomatoes\\n- 2 cups vegetable or chicken broth\\n- 1 teaspoon sugar\\n- 1 teaspoon salt\\n- 1/4 teaspoon black pepper\\n- 1/4 cup chopped fresh basil (optional)\\n- 1/2 cup heavy cream (optional)\\n\\nInstructions:\\n1. Heat the olive oil in a large pot over medium heat.\\n2. Add the chopped onion and minced garlic and cook until the onions are translucent, about 5 minutes.\\n3. Add the canned tomatoes (with their juice), chicken or vegetable broth, sugar, salt and black pepper. \\n4. Bring the mixture to a boil, then reduce the heat to low and let it simmer for about 15 minutes.\\n5. Remove the pot from heat and let it cool for a few minutes.\\n6. Using an immersion blender, blend the soup until it is smooth.\\n7. If using, stir in the chopped fresh basil and heavy cream.\\n8. Serve hot with crusty bread or crackers.\\n\\nEnjoy your homemade tomato soup!'}]"
      ]
     },
     "execution_count": 9,
     "metadata": {},
     "output_type": "execute_result"
    }
   ],
   "source": [
    "messages"
   ]
  }
 ],
 "metadata": {
  "kernelspec": {
   "display_name": "knowledgegpt-env",
   "language": "python",
   "name": "python3"
  },
  "language_info": {
   "codemirror_mode": {
    "name": "ipython",
    "version": 3
   },
   "file_extension": ".py",
   "mimetype": "text/x-python",
   "name": "python",
   "nbconvert_exporter": "python",
   "pygments_lexer": "ipython3",
   "version": "3.9.16"
  },
  "orig_nbformat": 4
 },
 "nbformat": 4,
 "nbformat_minor": 2
}
